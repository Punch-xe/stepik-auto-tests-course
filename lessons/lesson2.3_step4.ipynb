{
 "cells": [
  {
   "cell_type": "code",
   "execution_count": 6,
   "metadata": {},
   "outputs": [],
   "source": [
    "import time\n",
    "from selenium import webdriver\n",
    "import math\n",
    "\n",
    "try:\n",
    "    browser = webdriver.Chrome()\n",
    "    browser.get(\"http://suninjuly.github.io/alert_accept.html\")\n",
    "    \n",
    "    submit = browser.find_element_by_css_selector(\".btn.btn-primary\")\n",
    "    submit.click()\n",
    "    \n",
    "    confirm = browser.switch_to.alert\n",
    "    confirm.accept()\n",
    "    \n",
    "    x_elmt = browser.find_element_by_id(\"input_value\")\n",
    "    x = int(x_elmt.text)\n",
    "    otvet = str(math.log(abs(12*math.sin(x))))\n",
    "    \n",
    "    input1 = browser.find_element_by_id(\"answer\")\n",
    "    input1.send_keys(otvet)\n",
    "    \n",
    "    submit = browser.find_element_by_css_selector(\".btn.btn-primary\")\n",
    "    submit.click()\n",
    "    \n",
    "finally:\n",
    "    time.sleep(10)\n",
    "    browser.quit()"
   ]
  },
  {
   "cell_type": "code",
   "execution_count": null,
   "metadata": {},
   "outputs": [],
   "source": [
    "    "
   ]
  }
 ],
 "metadata": {
  "kernelspec": {
   "display_name": "Python 3",
   "language": "python",
   "name": "python3"
  },
  "language_info": {
   "codemirror_mode": {
    "name": "ipython",
    "version": 3
   },
   "file_extension": ".py",
   "mimetype": "text/x-python",
   "name": "python",
   "nbconvert_exporter": "python",
   "pygments_lexer": "ipython3",
   "version": "3.8.5"
  }
 },
 "nbformat": 4,
 "nbformat_minor": 4
}
