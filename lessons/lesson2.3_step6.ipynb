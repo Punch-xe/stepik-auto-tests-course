{
 "cells": [
  {
   "cell_type": "code",
   "execution_count": 9,
   "metadata": {
    "scrolled": false
   },
   "outputs": [
    {
     "name": "stdout",
     "output_type": "stream",
     "text": [
      "28.9447042666831\n"
     ]
    }
   ],
   "source": [
    "import time\n",
    "from selenium import webdriver\n",
    "import math\n",
    "import re\n",
    "\n",
    "try:\n",
    "    browser = webdriver.Chrome()\n",
    "    browser.get(\"http://suninjuly.github.io/redirect_accept.html\")\n",
    "    \n",
    "    submit = browser.find_element_by_css_selector(\".trollface.btn.btn-primary\")\n",
    "    submit.click()\n",
    "    \n",
    "    second_window = browser.window_handles[1]\n",
    "    browser.switch_to_window(second_window)\n",
    "    \n",
    "    x_elmt = browser.find_element_by_id(\"input_value\")\n",
    "    x = int(x_elmt.text)\n",
    "    otvet = str(math.log(abs(12*math.sin(x))))\n",
    "    \n",
    "    input1 = browser.find_element_by_id(\"answer\")\n",
    "    input1.send_keys(otvet)\n",
    "    \n",
    "    submit = browser.find_element_by_css_selector(\".btn.btn-primary\")\n",
    "    submit.click()\n",
    "    \n",
    "    alert_text = browser.switch_to.alert.text.split(': ')[-1] \n",
    "    browser.switch_to.alert.accept()\n",
    "    \n",
    "    print(alert_text)\n",
    "    \n",
    "finally:\n",
    "    time.sleep(5)\n",
    "    browser.quit()"
   ]
  },
  {
   "cell_type": "code",
   "execution_count": null,
   "metadata": {},
   "outputs": [],
   "source": []
  }
 ],
 "metadata": {
  "kernelspec": {
   "display_name": "Python 3",
   "language": "python",
   "name": "python3"
  },
  "language_info": {
   "codemirror_mode": {
    "name": "ipython",
    "version": 3
   },
   "file_extension": ".py",
   "mimetype": "text/x-python",
   "name": "python",
   "nbconvert_exporter": "python",
   "pygments_lexer": "ipython3",
   "version": "3.8.5"
  }
 },
 "nbformat": 4,
 "nbformat_minor": 4
}
