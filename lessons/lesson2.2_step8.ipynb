{
 "cells": [
  {
   "cell_type": "code",
   "execution_count": 17,
   "metadata": {},
   "outputs": [],
   "source": [
    "from pathlib import Path\n",
    "from selenium import webdriver\n",
    "import time\n",
    "\n",
    "outpath = str(Path.cwd() / 'new.txt')\n",
    "\n",
    "\n",
    "try:\n",
    "    browser = webdriver.Chrome()\n",
    "    browser.get(\"http://suninjuly.github.io/file_input.html\")\n",
    "    \n",
    "    input1 = browser.find_element_by_name(\"firstname\")\n",
    "    input1.send_keys(\"Andrei\")\n",
    "    input2 = browser.find_element_by_name(\"lastname\")\n",
    "    input2.send_keys(\"Chernetsky\")\n",
    "    input3 = browser.find_element_by_name(\"email\")\n",
    "    input3.send_keys(\"Aftar.xe@gmail.com\")\n",
    "    \n",
    "    file_elmt = browser.find_element_by_id(\"file\")\n",
    "    file_elmt.send_keys(outpath)\n",
    "    \n",
    "    submit = browser.find_element_by_css_selector(\".btn.btn-primary\")\n",
    "    submit.click()\n",
    "    \n",
    "finally:\n",
    "    time.sleep(10)\n",
    "    browser.quit()"
   ]
  },
  {
   "cell_type": "code",
   "execution_count": null,
   "metadata": {},
   "outputs": [],
   "source": []
  }
 ],
 "metadata": {
  "kernelspec": {
   "display_name": "Python 3",
   "language": "python",
   "name": "python3"
  },
  "language_info": {
   "codemirror_mode": {
    "name": "ipython",
    "version": 3
   },
   "file_extension": ".py",
   "mimetype": "text/x-python",
   "name": "python",
   "nbconvert_exporter": "python",
   "pygments_lexer": "ipython3",
   "version": "3.8.5"
  }
 },
 "nbformat": 4,
 "nbformat_minor": 4
}
