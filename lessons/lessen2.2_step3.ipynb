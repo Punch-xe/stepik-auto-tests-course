{
 "cells": [
  {
   "cell_type": "code",
   "execution_count": 28,
   "metadata": {},
   "outputs": [],
   "source": [
    "from selenium import webdriver\n",
    "import time\n",
    "from selenium.webdriver.support.ui import Select\n",
    "\n",
    "try:\n",
    "    browser = webdriver.Chrome()\n",
    "    browser.get(\"http://suninjuly.github.io/selects2.html\")\n",
    "    \n",
    "    a_elmt = browser.find_element_by_id(\"num1\")\n",
    "    a = int(a_elmt.text)\n",
    "    b_elmt = browser.find_element_by_id(\"num2\")\n",
    "    b = int(b_elmt.text)\n",
    "    c = str(a + b)\n",
    "    \n",
    "    #select = Select(browser.find_element_by_id(\"dropdown\"))\n",
    "    #select.select_by_value(c)\n",
    "    browser.find_element_by_css_selector(\"#dropdown\").click()\n",
    "    browser.find_element_by_css_selector(f\"[value='{c}']\").click()\n",
    "    \n",
    "    \n",
    "    submit = browser.find_element_by_css_selector(\".btn.btn-default\")\n",
    "    submit.click()\n",
    "    \n",
    "finally:\n",
    "    \n",
    "    time.sleep(10)\n",
    "    browser.quit()"
   ]
  },
  {
   "cell_type": "code",
   "execution_count": null,
   "metadata": {},
   "outputs": [],
   "source": []
  }
 ],
 "metadata": {
  "kernelspec": {
   "display_name": "Python 3",
   "language": "python",
   "name": "python3"
  },
  "language_info": {
   "codemirror_mode": {
    "name": "ipython",
    "version": 3
   },
   "file_extension": ".py",
   "mimetype": "text/x-python",
   "name": "python",
   "nbconvert_exporter": "python",
   "pygments_lexer": "ipython3",
   "version": "3.8.5"
  }
 },
 "nbformat": 4,
 "nbformat_minor": 4
}
