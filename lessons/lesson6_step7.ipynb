{
 "cells": [
  {
   "cell_type": "code",
   "execution_count": 3,
   "metadata": {},
   "outputs": [],
   "source": [
    "from selenium import webdriver\n",
    "import time\n",
    "\n",
    "\n",
    "try:\n",
    "    browser = webdriver.Chrome()\n",
    "    browser.get(\"http://suninjuly.github.io/find_xpath_form\")\n",
    "    \n",
    "    input1 = browser.find_element_by_name(\"first_name\")\n",
    "    input1.send_keys(\"Andrei\")\n",
    "    input2 = browser.find_element_by_name(\"last_name\")\n",
    "    input2.send_keys(\"Cher\")\n",
    "    input3 = browser.find_element_by_class_name(\"form-control.city\")\n",
    "    input3.send_keys(\"Odintsovo\")\n",
    "    input4 = browser.find_element_by_id(\"country\")\n",
    "    input4.send_keys(\"Russia\")\n",
    "    \n",
    "    submit = browser.find_element_by_xpath(\"//button[@type='submit']\")\n",
    "    submit.click()\n",
    "\n",
    "finally:\n",
    "    time.sleep(15)\n",
    "    browser.quit()"
   ]
  },
  {
   "cell_type": "code",
   "execution_count": null,
   "metadata": {},
   "outputs": [],
   "source": []
  }
 ],
 "metadata": {
  "kernelspec": {
   "display_name": "Python 3",
   "language": "python",
   "name": "python3"
  },
  "language_info": {
   "codemirror_mode": {
    "name": "ipython",
    "version": 3
   },
   "file_extension": ".py",
   "mimetype": "text/x-python",
   "name": "python",
   "nbconvert_exporter": "python",
   "pygments_lexer": "ipython3",
   "version": "3.8.5"
  }
 },
 "nbformat": 4,
 "nbformat_minor": 4
}
