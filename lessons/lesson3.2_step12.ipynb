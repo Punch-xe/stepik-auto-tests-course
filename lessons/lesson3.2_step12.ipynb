{
 "cells": [
  {
   "cell_type": "code",
   "execution_count": 1,
   "metadata": {},
   "outputs": [
    {
     "name": "stderr",
     "output_type": "stream",
     "text": [
      "test_abs1 (__main__.TestAbs) ... ok\n",
      "test_abs2 (__main__.TestAbs) ... FAIL\n",
      "\n",
      "======================================================================\n",
      "FAIL: test_abs2 (__main__.TestAbs)\n",
      "----------------------------------------------------------------------\n",
      "Traceback (most recent call last):\n",
      "  File \"<ipython-input-1-fce3ef82da68>\", line 7, in test_abs2\n",
      "    self.assertEqual(abs(-42), -42, \"Should be absolute value of a number\")\n",
      "AssertionError: 42 != -42 : Should be absolute value of a number\n",
      "\n",
      "----------------------------------------------------------------------\n",
      "Ran 2 tests in 0.006s\n",
      "\n",
      "FAILED (failures=1)\n"
     ]
    },
    {
     "data": {
      "text/plain": [
       "<unittest.main.TestProgram at 0x27d99450b50>"
      ]
     },
     "execution_count": 1,
     "metadata": {},
     "output_type": "execute_result"
    }
   ],
   "source": [
    "import unittest\n",
    "\n",
    "class TestAbs(unittest.TestCase):\n",
    "    def test_abs1(self):\n",
    "        self.assertEqual(abs(-42), 42, \"Should be absolute value of a number\")\n",
    "    def test_abs2(self):\n",
    "        self.assertEqual(abs(-42), -42, \"Should be absolute value of a number\")\n",
    "        \n",
    "unittest.main(argv=[''], verbosity=2, exit=False)"
   ]
  },
  {
   "cell_type": "code",
   "execution_count": null,
   "metadata": {},
   "outputs": [],
   "source": []
  },
  {
   "cell_type": "code",
   "execution_count": null,
   "metadata": {},
   "outputs": [],
   "source": []
  },
  {
   "cell_type": "code",
   "execution_count": null,
   "metadata": {},
   "outputs": [],
   "source": []
  }
 ],
 "metadata": {
  "kernelspec": {
   "display_name": "Python 3",
   "language": "python",
   "name": "python3"
  },
  "language_info": {
   "codemirror_mode": {
    "name": "ipython",
    "version": 3
   },
   "file_extension": ".py",
   "mimetype": "text/x-python",
   "name": "python",
   "nbconvert_exporter": "python",
   "pygments_lexer": "ipython3",
   "version": "3.8.5"
  }
 },
 "nbformat": 4,
 "nbformat_minor": 4
}
