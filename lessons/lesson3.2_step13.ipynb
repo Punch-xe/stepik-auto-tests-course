{
 "cells": [
  {
   "cell_type": "code",
   "execution_count": 5,
   "metadata": {},
   "outputs": [
    {
     "name": "stderr",
     "output_type": "stream",
     "text": [
      "test_reg1 (__main__.TestReg) ... ok\n",
      "test_reg2 (__main__.TestReg) ... ERROR\n",
      "\n",
      "======================================================================\n",
      "ERROR: test_reg2 (__main__.TestReg)\n",
      "----------------------------------------------------------------------\n",
      "Traceback (most recent call last):\n",
      "  File \"<ipython-input-5-48542506c6e3>\", line 38, in test_reg2\n",
      "    input2 = browser.find_element_by_css_selector(\".first_block .form-control.second\")\n",
      "  File \"C:\\Users\\Andrei\\anaconda3\\lib\\site-packages\\selenium\\webdriver\\remote\\webdriver.py\", line 597, in find_element_by_css_selector\n",
      "    return self.find_element(by=By.CSS_SELECTOR, value=css_selector)\n",
      "  File \"C:\\Users\\Andrei\\anaconda3\\lib\\site-packages\\selenium\\webdriver\\remote\\webdriver.py\", line 964, in find_element\n",
      "    return self.execute(Command.FIND_ELEMENT, {\n",
      "  File \"C:\\Users\\Andrei\\anaconda3\\lib\\site-packages\\selenium\\webdriver\\remote\\webdriver.py\", line 320, in execute\n",
      "    self.error_handler.check_response(response)\n",
      "  File \"C:\\Users\\Andrei\\anaconda3\\lib\\site-packages\\selenium\\webdriver\\remote\\errorhandler.py\", line 242, in check_response\n",
      "    raise exception_class(message, screen, stacktrace)\n",
      "selenium.common.exceptions.NoSuchElementException: Message: no such element: Unable to locate element: {\"method\":\"css selector\",\"selector\":\".first_block .form-control.second\"}\n",
      "  (Session info: chrome=88.0.4324.150)\n",
      "\n",
      "\n",
      "----------------------------------------------------------------------\n",
      "Ran 2 tests in 7.948s\n",
      "\n",
      "FAILED (errors=1)\n"
     ]
    },
    {
     "data": {
      "text/plain": [
       "<unittest.main.TestProgram at 0x171585c5460>"
      ]
     },
     "execution_count": 5,
     "metadata": {},
     "output_type": "execute_result"
    }
   ],
   "source": [
    "import unittest\n",
    "from selenium import webdriver\n",
    "import time\n",
    "\n",
    "class TestReg(unittest.TestCase):\n",
    "    def test_reg1(self):\n",
    "        self.browser = webdriver.Chrome()\n",
    "        browser = self.browser\n",
    "        \n",
    "        browser.get(\"http://suninjuly.github.io/registration1.html\")\n",
    "        input1 = browser.find_element_by_css_selector(\".first_block .form-control.first\") \n",
    "        input1.send_keys(\"Andrei\")\n",
    "        input2 = browser.find_element_by_css_selector(\".first_block .form-control.second\")\n",
    "        input2.send_keys(\"Chernetsky\")\n",
    "        input3 = browser.find_element_by_css_selector(\".first_block .form-control.third\")\n",
    "        input3.send_keys(\"Aftar.xe@gmail.com\")\n",
    "    \n",
    "        button = browser.find_element_by_css_selector(\"button.btn\")\n",
    "        button.click()\n",
    "    \n",
    "        time.sleep(1)\n",
    "    \n",
    "        welcome_text_elm = browser.find_element_by_tag_name(\"h1\")\n",
    "        welcome_text = welcome_text_elm.text\n",
    "        \n",
    "        self.assertEqual(welcome_text, \"Congratulations! You have successfully registered!\", \"not equal\")\n",
    "        \n",
    "        browser.close()\n",
    "\n",
    "    def test_reg2(self):\n",
    "        self.browser = webdriver.Chrome()\n",
    "        browser = self.browser\n",
    "        \n",
    "        try:\n",
    "            browser.get(\"http://suninjuly.github.io/registration2.html\")\n",
    "            input1 = browser.find_element_by_css_selector(\".first_block .form-control.first\") \n",
    "            input1.send_keys(\"Andrei\")\n",
    "            input2 = browser.find_element_by_css_selector(\".first_block .form-control.second\")\n",
    "            input2.send_keys(\"Chernetsky\")\n",
    "            input3 = browser.find_element_by_css_selector(\".first_block .form-control.third\")\n",
    "            input3.send_keys(\"Aftar.xe@gmail.com\")\n",
    "    \n",
    "            button = browser.find_element_by_css_selector(\"button.btn\")\n",
    "            button.click()\n",
    "    \n",
    "            time.sleep(1)\n",
    "    \n",
    "            welcome_text_elm = browser.find_element_by_tag_name(\"h1\")\n",
    "            welcome_text = welcome_text_elm.text\n",
    "        \n",
    "            self.assertEqual(welcome_text, \"Congratulations! You have successfully registered!\", \"not equal\")\n",
    "        \n",
    "        finally:\n",
    "            browser.close()\n",
    "        \n",
    "\n",
    "unittest.main(argv=[''], verbosity=2, exit=False)\n",
    "\n"
   ]
  },
  {
   "cell_type": "code",
   "execution_count": null,
   "metadata": {},
   "outputs": [],
   "source": []
  }
 ],
 "metadata": {
  "kernelspec": {
   "display_name": "Python 3",
   "language": "python",
   "name": "python3"
  },
  "language_info": {
   "codemirror_mode": {
    "name": "ipython",
    "version": 3
   },
   "file_extension": ".py",
   "mimetype": "text/x-python",
   "name": "python",
   "nbconvert_exporter": "python",
   "pygments_lexer": "ipython3",
   "version": "3.8.5"
  }
 },
 "nbformat": 4,
 "nbformat_minor": 4
}
