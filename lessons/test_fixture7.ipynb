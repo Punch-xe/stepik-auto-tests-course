{
 "cells": [
  {
   "cell_type": "code",
   "execution_count": null,
   "metadata": {},
   "outputs": [],
   "source": [
    "import pytest\n",
    "from selenium import webdriver\n",
    "\n",
    "@pytest.fixture(scope = 'function')\n",
    "def browser():\n",
    "    print(\"\\nStart browser for test..\")\n",
    "    browser = webdriver.Chrome()\n",
    "    yield browser\n",
    "    print(\"\\nQuit browser..\")\n",
    "    browser.quit()\n",
    "    \n",
    "@pytest.mark.parametrize('language', ['ru', 'en-gb'])\n",
    "def test_guest_should_see_login_link(browser, language):\n",
    "    link = f\"http://selenium1py.pythonanywhere.com/{language}/\"\n",
    "    browser.get(link)\n",
    "    browser.find_element_by_css_selector(\"#login_link\")\n"
   ]
  },
  {
   "cell_type": "code",
   "execution_count": null,
   "metadata": {},
   "outputs": [],
   "source": []
  }
 ],
 "metadata": {
  "kernelspec": {
   "display_name": "Python 3",
   "language": "python",
   "name": "python3"
  },
  "language_info": {
   "codemirror_mode": {
    "name": "ipython",
    "version": 3
   },
   "file_extension": ".py",
   "mimetype": "text/x-python",
   "name": "python",
   "nbconvert_exporter": "python",
   "pygments_lexer": "ipython3",
   "version": "3.8.5"
  }
 },
 "nbformat": 4,
 "nbformat_minor": 4
}
