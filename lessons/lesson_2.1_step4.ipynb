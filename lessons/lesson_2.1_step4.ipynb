{
 "cells": [
  {
   "cell_type": "code",
   "execution_count": 1,
   "metadata": {},
   "outputs": [],
   "source": [
    "from selenium import webdriver\n",
    "import time\n",
    "import math\n",
    "\n",
    "try:\n",
    "    browser = webdriver.Chrome()\n",
    "    browser.get(\"http://suninjuly.github.io/math.html\")\n",
    "    \n",
    "    x_elmt = browser.find_element_by_css_selector(\"#input_value\")\n",
    "    x = x_elmt.text\n",
    "    otvet = str(math.log(abs(12*math.sin(int(x)))))\n",
    "    \n",
    "    input1 = browser.find_element_by_css_selector(\"#answer\")\n",
    "    input1.send_keys(otvet)\n",
    "    \n",
    "    option1 = browser.find_element_by_css_selector(\"#robotCheckbox\")\n",
    "    option1.click()\n",
    "    \n",
    "    option2 = browser.find_element_by_css_selector(\"#robotsRule\")\n",
    "    option2.click()\n",
    "    \n",
    "    submit = browser.find_element_by_css_selector(\".btn.btn-default\")\n",
    "    submit.click()\n",
    "    \n",
    "finally:\n",
    "    time.sleep(10)\n",
    "    browser.quit()"
   ]
  },
  {
   "cell_type": "code",
   "execution_count": null,
   "metadata": {},
   "outputs": [],
   "source": []
  }
 ],
 "metadata": {
  "kernelspec": {
   "display_name": "Python 3",
   "language": "python",
   "name": "python3"
  },
  "language_info": {
   "codemirror_mode": {
    "name": "ipython",
    "version": 3
   },
   "file_extension": ".py",
   "mimetype": "text/x-python",
   "name": "python",
   "nbconvert_exporter": "python",
   "pygments_lexer": "ipython3",
   "version": "3.8.5"
  }
 },
 "nbformat": 4,
 "nbformat_minor": 4
}
