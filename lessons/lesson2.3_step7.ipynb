{
 "cells": [
  {
   "cell_type": "code",
   "execution_count": 4,
   "metadata": {},
   "outputs": [],
   "source": [
    "from selenium.webdriver.common.by import By\n",
    "from selenium.webdriver.support.ui import WebDriverWait\n",
    "from selenium.webdriver.support import expected_conditions as EC\n",
    "from selenium import webdriver\n",
    "import time \n",
    "\n",
    "try:\n",
    "    browser = webdriver.Chrome()\n",
    "\n",
    "    browser.get(\"http://suninjuly.github.io/wait2.html\")\n",
    "\n",
    "    # говорим Selenium проверять в течение 5 секунд, пока кнопка не станет кликабельной\n",
    "    button = WebDriverWait(browser, 5).until(\n",
    "            EC.element_to_be_clickable((By.ID, \"verify\"))\n",
    "        )\n",
    "    button.click()\n",
    "    message = browser.find_element_by_id(\"verify_message\")\n",
    "\n",
    "    assert \"successful\" in message.text\n",
    "    \n",
    "    \n",
    "    \n",
    "finally:\n",
    "    time.sleep(5)\n",
    "    browser.quit()"
   ]
  },
  {
   "cell_type": "code",
   "execution_count": null,
   "metadata": {},
   "outputs": [],
   "source": []
  }
 ],
 "metadata": {
  "kernelspec": {
   "display_name": "Python 3",
   "language": "python",
   "name": "python3"
  },
  "language_info": {
   "codemirror_mode": {
    "name": "ipython",
    "version": 3
   },
   "file_extension": ".py",
   "mimetype": "text/x-python",
   "name": "python",
   "nbconvert_exporter": "python",
   "pygments_lexer": "ipython3",
   "version": "3.8.5"
  }
 },
 "nbformat": 4,
 "nbformat_minor": 4
}
