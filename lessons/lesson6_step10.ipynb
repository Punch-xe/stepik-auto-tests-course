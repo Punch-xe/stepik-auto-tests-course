{
 "cells": [
  {
   "cell_type": "code",
   "execution_count": 1,
   "metadata": {},
   "outputs": [],
   "source": [
    "from selenium import webdriver\n",
    "import time\n",
    "\n",
    "try:\n",
    "    browser = webdriver.Chrome()\n",
    "    browser.get(\"http://suninjuly.github.io/registration1.html\")\n",
    "    #browser.get(\"http://suninjuly.github.io/registration2.html\")\n",
    "    \n",
    "    input1 = browser.find_element_by_css_selector(\".first_block .form-control.first\") \n",
    "    input1.send_keys(\"Andrei\")\n",
    "    input2 = browser.find_element_by_css_selector(\".first_block .form-control.second\")\n",
    "    input2.send_keys(\"Chernetsky\")\n",
    "    input3 = browser.find_element_by_css_selector(\".first_block .form-control.third\")\n",
    "    input3.send_keys(\"Aftar.xe@gmail.com\")\n",
    "    \n",
    "    button = browser.find_element_by_css_selector(\"button.btn\")\n",
    "    button.click()\n",
    "    \n",
    "    time.sleep(1)\n",
    "    \n",
    "    welcome_text_elm = browser.find_element_by_tag_name(\"h1\")\n",
    "    welcome_text = welcome_text_elm.text\n",
    "    \n",
    "    \n",
    "    \n",
    "    assert \"Congratulations! You have successfully registered!\" == welcome_text\n",
    "    \n",
    "finally:\n",
    "    time.sleep(10)\n",
    "    browser.quit()"
   ]
  },
  {
   "cell_type": "code",
   "execution_count": null,
   "metadata": {},
   "outputs": [],
   "source": []
  }
 ],
 "metadata": {
  "kernelspec": {
   "display_name": "Python 3",
   "language": "python",
   "name": "python3"
  },
  "language_info": {
   "codemirror_mode": {
    "name": "ipython",
    "version": 3
   },
   "file_extension": ".py",
   "mimetype": "text/x-python",
   "name": "python",
   "nbconvert_exporter": "python",
   "pygments_lexer": "ipython3",
   "version": "3.8.5"
  }
 },
 "nbformat": 4,
 "nbformat_minor": 4
}
