{
 "cells": [
  {
   "cell_type": "code",
   "execution_count": 7,
   "metadata": {},
   "outputs": [],
   "source": [
    "from selenium import webdriver\n",
    "\n",
    "import time\n",
    "import math\n",
    "\n",
    "try:\n",
    "    browser = webdriver.Chrome()\n",
    "    browser.get(\"http://suninjuly.github.io/execute_script.html\")\n",
    "    \n",
    "    x_elmt = browser.find_element_by_id(\"input_value\")\n",
    "    x = int(x_elmt.text)\n",
    "    otvet = str(math.log(abs(12*math.sin(int(x)))))\n",
    "    \n",
    "    input1 = browser.find_element_by_id(\"answer\")\n",
    "    input1.send_keys(otvet)\n",
    "    browser.find_element_by_id(\"robotCheckbox\").click()\n",
    "    \n",
    "    time.sleep(1)\n",
    "    \n",
    "    submit = browser.find_element_by_css_selector(\".btn.btn-primary\")\n",
    "    browser.execute_script(\"return arguments[0].scrollIntoView(true);\", submit)\n",
    "    \n",
    "    browser.find_element_by_id(\"robotsRule\").click()\n",
    "    \n",
    "    submit.click()\n",
    "\n",
    "finally:\n",
    "    time.sleep(10)\n",
    "    browser.quit()"
   ]
  },
  {
   "cell_type": "code",
   "execution_count": null,
   "metadata": {},
   "outputs": [],
   "source": []
  }
 ],
 "metadata": {
  "kernelspec": {
   "display_name": "Python 3",
   "language": "python",
   "name": "python3"
  },
  "language_info": {
   "codemirror_mode": {
    "name": "ipython",
    "version": 3
   },
   "file_extension": ".py",
   "mimetype": "text/x-python",
   "name": "python",
   "nbconvert_exporter": "python",
   "pygments_lexer": "ipython3",
   "version": "3.8.5"
  }
 },
 "nbformat": 4,
 "nbformat_minor": 4
}
