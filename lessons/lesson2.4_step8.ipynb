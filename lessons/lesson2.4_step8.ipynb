{
 "cells": [
  {
   "cell_type": "code",
   "execution_count": 9,
   "metadata": {},
   "outputs": [
    {
     "name": "stdout",
     "output_type": "stream",
     "text": [
      "28.98809650077751\n"
     ]
    }
   ],
   "source": [
    "import time\n",
    "from selenium.webdriver.support.ui import WebDriverWait\n",
    "from selenium.webdriver.support import expected_conditions as EC\n",
    "from selenium.webdriver.common.by import By\n",
    "import math\n",
    "from selenium import webdriver\n",
    "import re\n",
    "\n",
    "try:\n",
    "    browser = webdriver.Chrome()\n",
    "    #browser.implicitly_wait(5)\n",
    "    browser.get(\"http://suninjuly.github.io/explicit_wait2.html\")\n",
    "    \n",
    "    price = WebDriverWait (browser, 15).until(EC.text_to_be_present_in_element((By.ID, \"price\"), \"$100\"))\n",
    "    button = browser.find_element_by_id(\"book\")\n",
    "    button.click()\n",
    "    \n",
    "    x_elmt = browser.find_element_by_id(\"input_value\")\n",
    "    x = int(x_elmt.text)\n",
    "    otvet = str(math.log(abs(12*math.sin(x))))\n",
    "    input1 = browser.find_element_by_id(\"answer\")\n",
    "    input1.send_keys(otvet)\n",
    "    submit = browser.find_element_by_id(\"solve\")\n",
    "    submit.click()\n",
    "    \n",
    "    alert_text = browser.switch_to.alert.text.split(\": \") [-1]\n",
    "    browser.switch_to.alert.accept()\n",
    "    print(alert_text)\n",
    "    \n",
    "finally:\n",
    "    time.sleep(5)\n",
    "    browser.quit()"
   ]
  },
  {
   "cell_type": "code",
   "execution_count": null,
   "metadata": {},
   "outputs": [],
   "source": []
  }
 ],
 "metadata": {
  "kernelspec": {
   "display_name": "Python 3",
   "language": "python",
   "name": "python3"
  },
  "language_info": {
   "codemirror_mode": {
    "name": "ipython",
    "version": 3
   },
   "file_extension": ".py",
   "mimetype": "text/x-python",
   "name": "python",
   "nbconvert_exporter": "python",
   "pygments_lexer": "ipython3",
   "version": "3.8.5"
  }
 },
 "nbformat": 4,
 "nbformat_minor": 4
}
